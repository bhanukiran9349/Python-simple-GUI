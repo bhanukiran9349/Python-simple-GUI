{
 "cells": [
  {
   "cell_type": "code",
   "execution_count": 2,
   "metadata": {},
   "outputs": [
    {
     "name": "stdout",
     "output_type": "stream",
     "text": [
      "event  picture\n",
      "values  {'file_name': 'C:/Users/JayA_KrishnAA/Downloads/2018447.jpg'}\n",
      "event  minimize\n",
      "values  {'file_name': 'C:/Users/JayA_KrishnAA/Downloads/2018447.jpg'}\n",
      "event  dim\n",
      "values  {'file_name': 'C:/Users/JayA_KrishnAA/Downloads/2018447.jpg'}\n",
      "event  turn image\n",
      "values  {'file_name': 'C:/Users/JayA_KrishnAA/Downloads/2018447.jpg'}\n",
      "event  minimize\n",
      "values  {'file_name': 'C:/Users/JayA_KrishnAA/Downloads/2018447.jpg'}\n",
      "event  saveimage\n",
      "values  {'file_name': 'C:/Users/JayA_KrishnAA/Downloads/2018447.jpg'}\n",
      "event  Quit\n",
      "values  {'file_name': 'C:/Users/JayA_KrishnAA/Downloads/2018447.jpg'}\n"
     ]
    }
   ],
   "source": [
    "import PySimpleGUI as sg \n",
    "from PIL import Image, ImageTk, ImageFilter\n",
    "title=\"Browse and Select Image\" \n",
    "layout=[[sg.FileBrowse(key=\"file_name\", size=(15,1))],\n",
    "       [sg.Button(\"picture\",key=\"picture\")],\n",
    "       [sg.Button(\"Minimize\",key=\"minimize\"),\n",
    "        sg.Button(\"dim\",key=\"dim\"),\n",
    "        sg.Button(\"turn image\",key =\"turn image\")],\n",
    "       [sg.Image(key=\"showimage\")],\n",
    "       [sg.Button(\"Save\",key=\"saveimage\"), sg.Cancel(\"Quit\")],\n",
    "       ]\n",
    "window=sg.Window(title,layout)\n",
    "\n",
    "while True:\n",
    "    event,values = window.read()\n",
    "    print(\"event \" , event)\n",
    "    print(\"values \" , values)\n",
    "    if event == sg.WIN_CLOSED or event==\"Quit\":\n",
    "        break\n",
    "    elif event == \"picture\":\n",
    "        img = Image.open(values[\"file_name\"])\n",
    "        window[\"showimage\"].update(data = ImageTk.PhotoImage(img))\n",
    "    elif event == \"minimize\":\n",
    "        img = Image.open(values[\"file_name\"]).resize((500,600))\n",
    "        window[\"showimage\"].update(data = ImageTk.PhotoImage(img))\n",
    "    elif event == \"dim\":\n",
    "        img = Image.open(values[\"file_name\"])\n",
    "        img = img.filter(ImageFilter.BoxBlur(2))\n",
    "        window[\"showimage\"].update(data = ImageTk.PhotoImage(img))\n",
    "    elif event == \"turn image\":\n",
    "        img = Image.open(values[\"file_name\"])\n",
    "        img = img.transpose(Image.FLIP_LEFT_RIGHT)\n",
    "        window[\"showimage\"].update(data = ImageTk.PhotoImage(img))\n",
    "    elif event == \"saveimage\":\n",
    "        img.save(\"newimage.PNG\")\n",
    "    else:\n",
    "        \n",
    "            break  \n",
    "   \n",
    "\n",
    "window.close()"
   ]
  },
  {
   "cell_type": "code",
   "execution_count": null,
   "metadata": {},
   "outputs": [],
   "source": []
  }
 ],
 "metadata": {
  "kernelspec": {
   "display_name": "Python 3",
   "language": "python",
   "name": "python3"
  },
  "language_info": {
   "codemirror_mode": {
    "name": "ipython",
    "version": 3
   },
   "file_extension": ".py",
   "mimetype": "text/x-python",
   "name": "python",
   "nbconvert_exporter": "python",
   "pygments_lexer": "ipython3",
   "version": "3.8.3"
  }
 },
 "nbformat": 4,
 "nbformat_minor": 4
}
